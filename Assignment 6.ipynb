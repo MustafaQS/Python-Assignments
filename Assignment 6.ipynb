{
 "cells": [
  {
   "cell_type": "markdown",
   "metadata": {},
   "source": [
    "# Assignment 6"
   ]
  },
  {
   "cell_type": "markdown",
   "metadata": {},
   "source": [
    "1) Define Object Oriented Programming Language?\n",
    "\n",
    "Object-Oriented Programming refers to languages that uses objects in programming. Object-oriented programming aims to implement real-world entities like inheritance, hiding, polymorphism etc in programming. The main aim of OOP is to bind together the data and the functions that operate on them so that no other part of the code can access this data except that function.\n"
   ]
  },
  {
   "cell_type": "markdown",
   "metadata": {},
   "source": [
    "2) List down the Benefits of OOP?\n",
    "\n",
    "1. Re-usability\n",
    "2. Data Redundancy\n",
    "3. Code Maintenance\n",
    "4. Security\n",
    "5. Design Benefits\n",
    "6. Better productivity\n",
    "7. Easy troubleshooting\n",
    "8. Polymorphism Flexibility\n",
    "8. Polymorphism Flexibility\n"
   ]
  },
  {
   "cell_type": "markdown",
   "metadata": {},
   "source": [
    "3) Differentiate between function and method?\n",
    "\n",
    "A function is a piece of code that is called by name. It can be passed data to operate on (i.e. the parameters) and can optionally return data (the return value). All data that is passed to a function is explicitly passed.\n",
    "\n",
    "A method is a piece of code that is called by a name that is associated with an object. In most respects it is identical to a function except for two key differences:\n",
    "\n",
    "1.A method is implicitly passed the object on which it was called.\n",
    "2.A method is able to operate on data that is contained within the class (remembering that an object is an instance of a class - the class is the definition, the object is an instance of that data)."
   ]
  },
  {
   "cell_type": "markdown",
   "metadata": {},
   "source": [
    "4) Define the following terms:\n",
    "\n",
    "Class: a class is a blueprint for creating objects (a particular data structure), providing initial values for state (member variables or attributes), and implementations of behavior (member functions or methods).\n",
    "\n",
    "Object: An object is nothing but a self-contained component which consists of methods and properties to make a particular type of data useful. Object determines the behavior of the class. When you send a message to an object, you are asking the object to invoke or execute one of its methods.\n",
    "\n",
    "Attribute: Attributes are data stored inside a class or instance and represent the state or quality of the class or instance. \n",
    "\n",
    "Behavior: The behavior of an object is defined by its methods, which are the functions and subroutines defined within the object class. \n",
    "\n"
   ]
  },
  {
   "cell_type": "markdown",
   "metadata": {},
   "source": [
    "5) Write a code in python in which create a class named it Car which have 5 attributes such like (model, color and name etc.) and 3 methods. And create 5 object instance from that class."
   ]
  },
  {
   "cell_type": "code",
   "execution_count": 36,
   "metadata": {},
   "outputs": [
    {
     "name": "stdout",
     "output_type": "stream",
     "text": [
      "Black\n",
      "Honda\n",
      "Civic\n",
      "2019\n",
      "1500CC\n",
      "\n",
      "The car details are :  Black Honda Civic 2019 1500CC\n",
      "\n",
      "The details of your car are ('The details of the car are: ', 'Black', 'Honda', 'Civic', 2019, '1500CC')\n"
     ]
    }
   ],
   "source": [
    "class Car: \n",
    "    def __init__(self,colour,model,name,year,engine):\n",
    "        self.colour = colour\n",
    "        self.model = model\n",
    "        self.name = name\n",
    "        self.year = year\n",
    "        self.engine = engine\n",
    "    colour=\"Black\"\n",
    "    model=\"Honda\"\n",
    "    name=\"Civic\"\n",
    "    year=2019\n",
    "    engine=\"1500CC\"\n",
    "\n",
    "    def gaari(obj): \n",
    "        print(\"\\nThe car details are : \",obj.colour,obj.model,obj.name,obj.year,obj.engine) \n",
    "    def cars(colour,model,name,year,engine):\n",
    "        return (\"The details of the car are: \",colour,model,name,year,engine)\n",
    "\n",
    "p1 = Car(\"Black\", \"Honda\", \"Civic\", 2019,\"1500CC\")\n",
    "print(p1.colour)\n",
    "print(p1.model)\n",
    "print(p1.name)\n",
    "print(p1.year)\n",
    "print(p1.engine)\n",
    "\n",
    "Car.gaari = classmethod(Car.gaari) \n",
    "Car.gaari() \n",
    "\n",
    "c = Car.cars(\"Black\", \"Honda\", \"Civic\", 2019,\"1500CC\") \n",
    "print(\"\\nThe details of your car are\",c) \n",
    "\n"
   ]
  }
 ],
 "metadata": {
  "kernelspec": {
   "display_name": "Python 3",
   "language": "python",
   "name": "python3"
  },
  "language_info": {
   "codemirror_mode": {
    "name": "ipython",
    "version": 3
   },
   "file_extension": ".py",
   "mimetype": "text/x-python",
   "name": "python",
   "nbconvert_exporter": "python",
   "pygments_lexer": "ipython3",
   "version": "3.7.3"
  }
 },
 "nbformat": 4,
 "nbformat_minor": 2
}
